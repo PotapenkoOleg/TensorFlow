{
 "cells": [
  {
   "cell_type": "code",
   "execution_count": null,
   "id": "c2444195",
   "metadata": {},
   "outputs": [],
   "source": [
    "# https://github.com/udacity/intro-to-ml-tensorflow/tree/master"
   ]
  },
  {
   "cell_type": "code",
   "execution_count": null,
   "id": "b9727ff9",
   "metadata": {},
   "outputs": [],
   "source": [
    "# %pip install tensorflow[and-cuda]\n",
    "# %pip install tensorflow_datasets\n",
    "# %pip install keras\n",
    "# %pip install matplotlib\n",
    "# %pip install scikit-learn"
   ]
  },
  {
   "cell_type": "code",
   "execution_count": null,
   "id": "473f7866",
   "metadata": {},
   "outputs": [],
   "source": [
    "import tensorflow as tf\n",
    "import warnings\n",
    "warnings.filterwarnings('ignore')\n",
    "import logging\n",
    "logger = tf.get_logger()\n",
    "logger.setLevel(logging.ERROR) \n",
    "import keras\n",
    "import numpy as np\n",
    "import matplotlib.pyplot as plt\n",
    "#%matplotlib inline\n",
    "%config InlineBackend.figure_format = 'retina'\n",
    "\n",
    "import tensorflow_datasets as tfds\n",
    "tfds.disable_progress_bar()"
   ]
  },
  {
   "cell_type": "code",
   "execution_count": null,
   "id": "47630c07",
   "metadata": {},
   "outputs": [],
   "source": [
    "print(tf.reduce_sum(tf.random.normal([1000, 1000])))"
   ]
  },
  {
   "cell_type": "code",
   "execution_count": null,
   "id": "5fbd50d6",
   "metadata": {},
   "outputs": [],
   "source": [
    "print(tf.config.list_physical_devices('GPU'))"
   ]
  },
  {
   "cell_type": "code",
   "execution_count": null,
   "id": "10e777ab",
   "metadata": {},
   "outputs": [],
   "source": [
    "print('Using:')\n",
    "print('\\t\\u2022 TensorFlow version:', tf.__version__)\n",
    "print('\\t\\u2022 tf.keras version:', keras.__version__)\n",
    "print('\\t\\u2022 Running on GPU' if tf.test.is_gpu_available() else '\\t\\u2022 GPU device not found. Running on CPU')"
   ]
  },
  {
   "cell_type": "code",
   "execution_count": null,
   "id": "6ec0ecb3",
   "metadata": {},
   "outputs": [],
   "source": [
    "# https://www.tensorflow.org/datasets/overview\n",
    "iris_data, iris_info = tfds.load('iris', with_info=True, as_supervised=True)\n",
    "print(iris_info)"
   ]
  },
  {
   "cell_type": "code",
   "execution_count": null,
   "id": "72d39860",
   "metadata": {},
   "outputs": [],
   "source": [
    "# Extract features from the iris training dataset\n",
    "features = []\n",
    "for feature, label in iris_data['train']:\n",
    "    features.append(feature.numpy())\n",
    "features = np.array(features)\n",
    "features"
   ]
  },
  {
   "cell_type": "code",
   "execution_count": null,
   "id": "3eb9f545",
   "metadata": {},
   "outputs": [],
   "source": [
    "# Get the label description from iris_info\n",
    "label_description = iris_info.features['label'].names\n",
    "print(label_description)"
   ]
  },
  {
   "cell_type": "code",
   "execution_count": null,
   "id": "02c3e691",
   "metadata": {},
   "outputs": [],
   "source": [
    "num_classes = iris_info.features['label'].num_classes\n",
    "print('There are {:,} classes in our dataset'.format(num_classes))\n",
    "\n",
    "num_training_examples = iris_info.splits['train'].num_examples\n",
    "print('\\nThere are {:,} rows in the training set'.format(num_training_examples))"
   ]
  },
  {
   "cell_type": "code",
   "execution_count": null,
   "id": "584c2031",
   "metadata": {},
   "outputs": [],
   "source": [
    "# creating pipelines \n",
    "# def normalize(image, label):\n",
    "#     image = tf.cast(image, tf.float32)\n",
    "#     image /= 255\n",
    "#     return image, label\n",
    "\n",
    "# batch_size = 64\n",
    "\n",
    "# training_batches = training_set.cache().shuffle(num_training_examples//4).batch(batch_size).map(normalize).prefetch(1)"
   ]
  },
  {
   "cell_type": "code",
   "execution_count": null,
   "id": "0f25ffc1",
   "metadata": {},
   "outputs": [],
   "source": [
    "# https://www.tensorflow.org/guide/data_performance\n",
    "# https://www.tensorflow.org/api_docs/python/tf/data/Dataset"
   ]
  },
  {
   "cell_type": "code",
   "execution_count": null,
   "id": "74190b9c",
   "metadata": {},
   "outputs": [],
   "source": [
    "# model = tf.keras.Sequential([\n",
    "#         tf.keras.layers.Flatten(input_shape = (28,28,1)),\n",
    "#         tf.keras.layers.Dense(256, activation = 'sigmoid'),\n",
    "#         tf.keras.layers.Dense(10, activation = 'softmax')\n",
    "# ])\n",
    "\n",
    "# model.summary()"
   ]
  },
  {
   "cell_type": "code",
   "execution_count": null,
   "id": "1ae34c1a",
   "metadata": {},
   "outputs": [],
   "source": [
    "batch_size = 4\n",
    "\n",
    "def preprocess(features, label):\n",
    "    features = tf.cast(features, tf.float32)\n",
    "    return features, label\n",
    "\n",
    "train_ds = iris_data['train'] \\\n",
    "    .map(preprocess) \\\n",
    "    .cache() \\\n",
    "    .shuffle(num_training_examples) \\\n",
    "    .batch(batch_size) \\\n",
    "    .prefetch(tf.data.AUTOTUNE)"
   ]
  },
  {
   "cell_type": "code",
   "execution_count": null,
   "id": "82069c02",
   "metadata": {},
   "outputs": [],
   "source": [
    "model = keras.Sequential([\n",
    "    keras.layers.Dense(16, activation='relu', input_shape=(4,)),\n",
    "    keras.layers.Dense(12, activation='relu'),\n",
    "    keras.layers.Dense(num_classes, activation='softmax')\n",
    "])\n",
    "\n",
    "model.compile(optimizer='adam',\n",
    "              loss='sparse_categorical_crossentropy',\n",
    "              metrics=['accuracy'])\n",
    "\n",
    "model.summary()"
   ]
  },
  {
   "cell_type": "code",
   "execution_count": null,
   "id": "d27e6798",
   "metadata": {},
   "outputs": [],
   "source": [
    "# https://keras.io/api/layers/initializers/\n",
    "# https://www.tensorflow.org/versions/r2.0/api_docs/python/tf/keras/layers/Dense"
   ]
  },
  {
   "cell_type": "code",
   "execution_count": null,
   "id": "4883e6f0",
   "metadata": {},
   "outputs": [],
   "source": [
    "weights_and_biases = model.get_weights()\n",
    "len(weights_and_biases)"
   ]
  },
  {
   "cell_type": "code",
   "execution_count": null,
   "id": "27518ae0",
   "metadata": {},
   "outputs": [],
   "source": [
    "model.layers"
   ]
  },
  {
   "cell_type": "code",
   "execution_count": null,
   "id": "92e73354",
   "metadata": {},
   "outputs": [],
   "source": [
    "weights = model.get_layer(index=0).get_weights()[0]\n",
    "weights"
   ]
  },
  {
   "cell_type": "code",
   "execution_count": null,
   "id": "8cfa5be3",
   "metadata": {},
   "outputs": [],
   "source": [
    "biases = model.get_layer(index=0).get_weights()[1]\n",
    "biases"
   ]
  },
  {
   "cell_type": "code",
   "execution_count": null,
   "id": "5559ed9b",
   "metadata": {},
   "outputs": [],
   "source": [
    "from keras import Model\n",
    "\n",
    "# Subclassing \n",
    "class Network_1(Model):\n",
    "    def __init__(self, num_classes = 2):\n",
    "        super().__init__()\n",
    "        self.num_classes = num_classes\n",
    "    \n",
    "        # Define layers \n",
    "        self.input_layer = keras.layers.Flatten()\n",
    "        self.hidden_layer = keras.layers.Dense(256, activation = 'relu')\n",
    "        self.output_layer = keras.layers.Dense(self.num_classes, activation = 'softmax')\n",
    "    \n",
    "    # Define forward Pass   \n",
    "    def call(self, input_tensor):\n",
    "        x = self.input_layer(input_tensor)\n",
    "        x = self.hidden_layer(x)\n",
    "        x = self.output_layer(x)\n",
    "    \n",
    "        return x"
   ]
  },
  {
   "cell_type": "code",
   "execution_count": null,
   "id": "32610392",
   "metadata": {},
   "outputs": [],
   "source": [
    "# Create a model object\n",
    "subclassed_model = Network_1(10)\n",
    "\n",
    "# Build the model, i.e. initialize the model's weights and biases\n",
    "subclassed_model.build((None, 28, 28, 1))\n",
    "\n",
    "subclassed_model.summary()\n"
   ]
  },
  {
   "cell_type": "code",
   "execution_count": null,
   "id": "e1eefc5a",
   "metadata": {},
   "outputs": [],
   "source": [
    "# adding layers\n",
    "model = keras.Sequential()\n",
    "\n",
    "model.add(keras.layers.Flatten(input_shape = (28,28,1)))\n",
    "model.add(keras.layers.Dense(32, activation='relu'))\n",
    "model.add(keras.layers.Dense(10, activation='softmax'))\n",
    "          \n",
    "model.summary()"
   ]
  },
  {
   "cell_type": "code",
   "execution_count": null,
   "id": "6cc69f1e",
   "metadata": {},
   "outputs": [],
   "source": [
    "layer_neurons = [512, 256, 128, 56, 28, 14]\n",
    "\n",
    "model = keras.Sequential()\n",
    "model.add(keras.layers.Flatten(input_shape = (28,28,1)))\n",
    "\n",
    "for neurons in layer_neurons:\n",
    "    model.add(keras.layers.Dense(neurons, activation='relu'))\n",
    "            \n",
    "model.add(keras.layers.Dense(10, activation='softmax'))\n",
    "          \n",
    "model.summary() "
   ]
  },
  {
   "cell_type": "code",
   "execution_count": null,
   "id": "22ca2592",
   "metadata": {},
   "outputs": [],
   "source": [
    "# clearing the graph\n",
    "keras.backend.clear_session()\n",
    "\n",
    "layer_neurons = [512, 256, 128, 56, 28, 14]\n",
    "\n",
    "model = keras.Sequential()\n",
    "model.add(keras.layers.Flatten(input_shape = (28,28,1)))\n",
    "\n",
    "for neurons in layer_neurons:\n",
    "    model.add(keras.layers.Dense(neurons, activation='relu'))\n",
    "            \n",
    "model.add(keras.layers.Dense(10, activation='softmax'))\n",
    "          \n",
    "model.summary() "
   ]
  },
  {
   "cell_type": "code",
   "execution_count": null,
   "id": "bce01e78",
   "metadata": {},
   "outputs": [],
   "source": []
  }
 ],
 "metadata": {
  "kernelspec": {
   "display_name": ".venv",
   "language": "python",
   "name": "python3"
  },
  "language_info": {
   "codemirror_mode": {
    "name": "ipython",
    "version": 3
   },
   "file_extension": ".py",
   "mimetype": "text/x-python",
   "name": "python",
   "nbconvert_exporter": "python",
   "pygments_lexer": "ipython3",
   "version": "3.12.3"
  }
 },
 "nbformat": 4,
 "nbformat_minor": 5
}
