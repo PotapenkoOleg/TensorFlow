{
 "cells": [
  {
   "cell_type": "code",
   "execution_count": null,
   "id": "03a4de7f",
   "metadata": {},
   "outputs": [],
   "source": [
    "# IRIS dataset test example"
   ]
  },
  {
   "cell_type": "code",
   "execution_count": null,
   "id": "55f12aea",
   "metadata": {},
   "outputs": [],
   "source": [
    "import tensorflow as tf\n",
    "import warnings\n",
    "warnings.filterwarnings('ignore')\n",
    "import logging\n",
    "logger = tf.get_logger()\n",
    "logger.setLevel(logging.ERROR) \n",
    "import keras\n",
    "import numpy as np\n",
    "import matplotlib.pyplot as plt\n",
    "#%matplotlib inline\n",
    "%config InlineBackend.figure_format = 'retina'\n",
    "\n",
    "import tensorflow_datasets as tfds\n",
    "tfds.disable_progress_bar()"
   ]
  },
  {
   "cell_type": "code",
   "execution_count": null,
   "id": "5719af6f",
   "metadata": {},
   "outputs": [],
   "source": [
    "# Load the Iris dataset from TensorFlow Datasets\n",
    "(ds_train, ds_vaidation, ds_test), ds_info = tfds.load(\n",
    "    'iris',\n",
    "    split=['train[:60%]','train[60%:80%]', 'train[80%:]'],\n",
    "    as_supervised=True,\n",
    "    with_info=True\n",
    ")\n",
    "\n",
    "# Prepare the data: batch, shuffle, and prefetch\n",
    "BATCH_SIZE = 16\n",
    "AUTOTUNE = tf.data.AUTOTUNE\n",
    "EPOCHS = 100\n",
    "\n",
    "def preprocess(features, label):\n",
    "    features = tf.cast(features, tf.float64)\n",
    "    label = tf.cast(label, tf.int32)\n",
    "    return features, label\n",
    "\n",
    "ds_train = ds_train.map(preprocess).shuffle(100).batch(BATCH_SIZE).prefetch(AUTOTUNE)\n",
    "ds_validation = ds_vaidation.map(preprocess).batch(BATCH_SIZE).prefetch(AUTOTUNE)\n",
    "ds_test = ds_test.map(preprocess).batch(BATCH_SIZE).prefetch(AUTOTUNE)\n",
    "\n",
    "# Build the neural network model\n",
    "model = keras.Sequential([\n",
    "    keras.layers.Dense(16, activation='relu', input_shape=(4,), dtype='float64'),\n",
    "    keras.layers.Dense(12, activation='relu', dtype='float64'),\n",
    "    keras.layers.Dropout(0.1),\n",
    "    keras.layers.Dense(8, activation='relu', dtype='float64'),\n",
    "    keras.layers.Dropout(0.1),\n",
    "    keras.layers.Dense(6, activation='relu', dtype='float64'),\n",
    "    keras.layers.Dropout(0.1),\n",
    "    keras.layers.Dense(3, activation='softmax', dtype='float64')\n",
    "])\n",
    "\n",
    "# We use the sparse_categorical_crossentropy loss function when our dataset has labels that are integers, \n",
    "# and the categorical_crossentropy loss function when our dataset has one-hot encoded labels. \n",
    "\n",
    "# https://www.tensorflow.org/versions/r2.0/api_docs/python/tf/keras/optimizers#classes\n",
    "\n",
    "# https://www.tensorflow.org/versions/r2.0/api_docs/python/tf/keras/losses#classes\n",
    "\n",
    "# https://www.tensorflow.org/versions/r2.0/api_docs/python/tf/keras/metrics#classes\n",
    "\n",
    "# https://www.tensorflow.org/versions/r2.0/api_docs/python/tf/keras/Model#compile\n",
    "\n",
    "model.compile(\n",
    "    optimizer='adam',\n",
    "    loss='sparse_categorical_crossentropy',\n",
    "    metrics=['accuracy']\n",
    ")"
   ]
  },
  {
   "cell_type": "code",
   "execution_count": null,
   "id": "d0452b02",
   "metadata": {},
   "outputs": [],
   "source": [
    "# Evaluate the UNtrained model on the test dataset\n",
    "test_loss, test_accuracy = model.evaluate(ds_test)\n",
    "print(f\"Test Loss: {test_loss:.4f}\")\n",
    "print(f\"Test Accuracy: {test_accuracy:.4f}\")"
   ]
  },
  {
   "cell_type": "code",
   "execution_count": null,
   "id": "1049d35f",
   "metadata": {},
   "outputs": [],
   "source": [
    "# Train the model\n",
    "\n",
    "early_stopping = keras.callbacks.EarlyStopping(monitor='val_loss', patience=6)\n",
    "\n",
    "history = model.fit(ds_train, epochs=EPOCHS, validation_data=ds_validation, callbacks=[early_stopping])"
   ]
  },
  {
   "cell_type": "code",
   "execution_count": null,
   "id": "3e661199",
   "metadata": {},
   "outputs": [],
   "source": [
    "# Evaluate the trained model on the test dataset\n",
    "test_loss, test_accuracy = model.evaluate(ds_test)\n",
    "print(f\"Test Loss: {test_loss:.4f}\")\n",
    "print(f\"Test Accuracy: {test_accuracy:.4f}\")"
   ]
  },
  {
   "cell_type": "code",
   "execution_count": null,
   "id": "ee998077",
   "metadata": {},
   "outputs": [],
   "source": [
    "from sklearn.metrics import confusion_matrix, ConfusionMatrixDisplay\n",
    "\n",
    "# Get true labels and predictions from the test set\n",
    "y_true = []\n",
    "y_pred = []\n",
    "\n",
    "for features, labels in ds_test:\n",
    "    preds = model.predict(features)\n",
    "    y_true.extend(labels.numpy())\n",
    "    y_pred.extend(np.argmax(preds, axis=1))\n",
    "\n",
    "cm = confusion_matrix(y_true, y_pred)\n",
    "disp = ConfusionMatrixDisplay(confusion_matrix=cm, display_labels=ds_info.features['label'].names)\n",
    "disp.plot(cmap=plt.cm.Blues)\n",
    "plt.title(\"Confusion Matrix\")\n",
    "plt.show()\n"
   ]
  },
  {
   "cell_type": "code",
   "execution_count": null,
   "id": "5e554557",
   "metadata": {},
   "outputs": [],
   "source": [
    "# Create a random tensor with the same shape as the input features (batch_size, 4)\n",
    "# BATCH_SIZE\n",
    "random_features = tf.random.uniform(shape=(1, 4), minval=4.0, maxval=8.0, dtype=tf.float64)\n",
    "\n",
    "# Get model predictions for the random tensor\n",
    "random_preds = model.predict(random_features)\n",
    "predicted_classes = np.argmax(random_preds, axis=1)\n",
    "\n",
    "print(\"Random input predictions:\", predicted_classes)"
   ]
  },
  {
   "cell_type": "code",
   "execution_count": null,
   "id": "ce993b35",
   "metadata": {},
   "outputs": [],
   "source": []
  }
 ],
 "metadata": {
  "kernelspec": {
   "display_name": ".venv",
   "language": "python",
   "name": "python3"
  },
  "language_info": {
   "codemirror_mode": {
    "name": "ipython",
    "version": 3
   },
   "file_extension": ".py",
   "mimetype": "text/x-python",
   "name": "python",
   "nbconvert_exporter": "python",
   "pygments_lexer": "ipython3",
   "version": "3.12.3"
  }
 },
 "nbformat": 4,
 "nbformat_minor": 5
}
